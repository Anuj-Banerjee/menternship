{
 "cells": [
  {
   "cell_type": "code",
   "execution_count": 2,
   "id": "4253078e",
   "metadata": {},
   "outputs": [],
   "source": [
    "import pandas as pd\n",
    "import matplotlib.pyplot as plt\n",
    "import seaborn as sns\n",
    "import numpy as np\n",
    "\n",
    "merged_data = pd.read_csv(\"C:/Users/anujb/Downloads/Fitness_Classes_Data/Fitness Classes Data/cleaned/Cleaned_Data.csv\")\n",
    "\n",
    "#convert date columns\n",
    "merged_data.rename(columns={'BookingEndDateTime (Day/Month/Year)': 'BookingDate'}, inplace=True)\n",
    "merged_data['BookingDate'] = pd.to_datetime(merged_data['BookingDate'], dayfirst=True)\n",
    "merged_data.set_index('BookingDate', inplace=True)"
   ]
  },
  {
   "cell_type": "code",
   "execution_count": 3,
   "id": "0edf6833",
   "metadata": {},
   "outputs": [],
   "source": [
    "#adding DayOfWeek and Hour columns\n",
    "merged_data['DayOfWeek'] = merged_data.index.dayofweek\n",
    "merged_data['Hour'] = pd.to_datetime(merged_data['BookingStartTime'], format='%I:%M %p').dt.hour\n",
    "\n",
    "# Summarize and visualize booking data by day of the week and hour\n",
    "day_of_week_bookings = merged_data.groupby('DayOfWeek')['Number Booked'].sum()\n",
    "hourly_bookings = merged_data.groupby('Hour')['Number Booked'].sum()"
   ]
  },
  {
   "cell_type": "code",
   "execution_count": 4,
   "id": "708cc15d",
   "metadata": {},
   "outputs": [
    {
     "data": {
      "image/png": "[encoded data removed]",
      "text/plain": [
       "<Figure size 1008x432 with 2 Axes>"
      ]
     },
     "metadata": {
      "needs_background": "light"
     },
     "output_type": "display_data"
    }
   ],
   "source": [
    "plt.figure(figsize=(14, 6))\n",
    "\n",
    "#bookings by day_of_the_week\n",
    "plt.subplot(1, 2, 1)\n",
    "sns.barplot(x=day_of_week_bookings.index, y=day_of_week_bookings.values)\n",
    "plt.title('Total Bookings by Day of the Week')\n",
    "plt.xlabel('Day of the Week')\n",
    "plt.ylabel('Total Bookings')\n",
    "plt.xticks(ticks=range(7), labels=['Monday', 'Tuesday', 'Wednesday', 'Thursday', 'Friday', 'Saturday', 'Sunday'])\n",
    "\n",
    "#bookings by hour\n",
    "plt.subplot(1, 2, 2)\n",
    "sns.barplot(x=hourly_bookings.index, y=hourly_bookings.values)\n",
    "plt.title('Total Bookings by Hour')\n",
    "plt.xlabel('Hour of the Day')\n",
    "plt.ylabel('Total Bookings')\n",
    "\n",
    "plt.tight_layout()\n",
    "plt.show()"
   ]
  },
  {
   "cell_type": "code",
   "execution_count": 5,
   "id": "2bc88ea3",
   "metadata": {},
   "outputs": [
    {
     "name": "stdout",
     "output_type": "stream",
     "text": [
      "            Class Name  Price (INR)  Adjusted Price (INR)  Number Booked  \\\n",
      "BookingDate                                                                \n",
      "2018-06-01    20:20:20          499                 548.9             28   \n",
      "2018-06-08    20:20:20          499                 548.9             35   \n",
      "2018-06-15    20:20:20          499                 548.9             31   \n",
      "2018-06-22    20:20:20          499                 548.9             32   \n",
      "2018-06-29    20:20:20          499                 548.9             19   \n",
      "\n",
      "             MaxBookees  DayOfWeek  Hour ActivitySiteID  \n",
      "BookingDate                                              \n",
      "2018-06-01           35          4     9            BRP  \n",
      "2018-06-08           35          4     9            BRP  \n",
      "2018-06-15           35          4     9            BRP  \n",
      "2018-06-22           35          4     9            BRP  \n",
      "2018-06-29           35          4     9            BRP  \n"
     ]
    }
   ],
   "source": [
    "#pricing adjustment rules\n",
    "def adjusting_prices(row):\n",
    "    price = row['Price (INR)']\n",
    "    \n",
    "    #location-based adjustment\n",
    "    if row['ActivitySiteID'] == 'BRP':\n",
    "        price *= 1.10  #increase 10% for BRP centre\n",
    "        return price\n",
    "    elif row['ActivitySiteID'] == 'TSC':\n",
    "        price *= 0.90  #decrease 10% for TSC centre\n",
    "        return price\n",
    "    \n",
    "    #class-based adjustment\n",
    "    popular_classes = ['Body Conditioning', 'Studio Cycling', 'Pilates', 'Body Combat', 'Yoga', 'Aquafit']\n",
    "    if row['Class Name'] in popular_classes:\n",
    "        price *= 1.15  #increase 15% for popular classes\n",
    "        return price\n",
    "    elif row['Number Booked'] <= 50:\n",
    "        price *= 0.85  #decrease 15% for classes for bookings lessthan and equal to 50\n",
    "        return price\n",
    "    \n",
    "    #time-based adjustment\n",
    "    if ((row['Hour'] in [9, 10, 11, 12, 17, 18, 19]) and (row['DayOfWeek'] < 5)):\n",
    "        price *= 1.15  #increase 15% on weekdays\n",
    "        return price\n",
    "    elif row['DayOfWeek'] >= 5:\n",
    "        price *= 0.85  #decrease 15% on weekends\n",
    "        return price\n",
    "    \n",
    "    #popularity-based adjustment\n",
    "    if row['Number Booked'] / row['MaxBookees'] < 0.5:\n",
    "        price *= 0.85  #decrease 15% if bookings < 50% \n",
    "        return price\n",
    "    elif row['Number Booked'] / row['MaxBookees'] >= 0.5:\n",
    "        price *= 1.15  #increase 15% if bookings >= 50%\n",
    "        return price\n",
    "    \n",
    "    return price\n",
    "\n",
    "merged_data['Adjusted Price (INR)'] = merged_data.apply(adjusting_prices, axis=1)\n",
    "\n",
    "print(merged_data[['Class Name', 'Price (INR)', 'Adjusted Price (INR)', 'Number Booked', 'MaxBookees', 'DayOfWeek', 'Hour', 'ActivitySiteID']].head())\n",
    "\n",
    "merged_data.to_csv('C:/Users/anujb/Downloads/Fitness_Classes_Data/Fitness Classes Data/cleaned/dynamic_pricing.csv',index=False)"
   ]
  },
  {
   "cell_type": "code",
   "execution_count": null,
   "id": "b7be43c3",
   "metadata": {},
   "outputs": [],
   "source": []
  }
 ],
 "metadata": {
  "kernelspec": {
   "display_name": "Python 3 (ipykernel)",
   "language": "python",
   "name": "python3"
  },
  "language_info": {
   "codemirror_mode": {
    "name": "ipython",
    "version": 3
   },
   "file_extension": ".py",
   "mimetype": "text/x-python",
   "name": "python",
   "nbconvert_exporter": "python",
   "pygments_lexer": "ipython3",
   "version": "3.9.12"
  }
 },
 "nbformat": 4,
 "nbformat_minor": 5
}

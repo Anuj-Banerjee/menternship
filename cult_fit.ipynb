{
 "cells": [
  {
   "cell_type": "code",
   "execution_count": 1,
   "id": "d381205c",
   "metadata": {},
   "outputs": [],
   "source": [
    "# Data cleaning and preprocessing of data\n",
    "import pandas as pd\n",
    "import re"
   ]
  },
  {
   "cell_type": "code",
   "execution_count": 2,
   "id": "8510b704",
   "metadata": {},
   "outputs": [],
   "source": [
    "# loading raw data\n",
    "file_path_april_may = '/Users/anujb/Downloads/Fitness_Classes_Data/Fitness Classes Data/ClassesJune2018.csv'\n",
    "file_path_june = '/Users/anujb/Downloads/Fitness_Classes_Data/Fitness Classes Data/ClassesApril-May2018.csv'\n",
    "\n",
    "data_1= pd.read_csv(file_path_april_may)\n",
    "data_2 = pd.read_csv(file_path_june)"
   ]
  },
  {
   "cell_type": "code",
   "execution_count": 3,
   "id": "227fb176",
   "metadata": {},
   "outputs": [
    {
     "name": "stdout",
     "output_type": "stream",
     "text": [
      "  ActivitySiteID     ActivityDescription  \\\n",
      "0            BRP  20:20:20  9.30-10.30am   \n",
      "1            BRP  20:20:20  9.30-10.30am   \n",
      "2            BRP  20:20:20  9.30-10.30am   \n",
      "3            BRP  20:20:20  9.30-10.30am   \n",
      "4            BRP  20:20:20  9.30-10.30am   \n",
      "\n",
      "  BookingEndDateTime (Month / Day / Year) BookingStartTime  MaxBookees  \\\n",
      "0                               01-Jun-18          9:30:00          35   \n",
      "1                               08-Jun-18          9:30:00          35   \n",
      "2                               15-Jun-18          9:30:00          35   \n",
      "3                               22-Jun-18          9:30:00          35   \n",
      "4                               29-Jun-18          9:30:00          35   \n",
      "\n",
      "   Number Booked  Price (INR)  \n",
      "0             28          499  \n",
      "1             35          499  \n",
      "2             31          499  \n",
      "3             32          499  \n",
      "4             19          499  \n",
      "  ActivitySiteID      ActivityDescription  \\\n",
      "0            HXP  20-20-20  2.45pm-3.45pm   \n",
      "1            HXP  20-20-20  2.45pm-3.45pm   \n",
      "2            HXP  20-20-20  2.45pm-3.45pm   \n",
      "3            HXP  20-20-20  2.45pm-3.45pm   \n",
      "4            HXP  20-20-20  2.45pm-3.45pm   \n",
      "\n",
      "  BookingEndDateTime (Month / Day / Year) BookingStartTime  MaxBookees  \\\n",
      "0                               08-Apr-18         14:45:00          25   \n",
      "1                               15-Apr-18         14:45:00          25   \n",
      "2                               22-Apr-18         14:45:00          25   \n",
      "3                               29-Apr-18         14:45:00          25   \n",
      "4                               06-May-18         14:45:00          25   \n",
      "\n",
      "   Number Booked  Price (INR)  \n",
      "0             12        499.0  \n",
      "1             15        499.0  \n",
      "2             14        499.0  \n",
      "3              9        499.0  \n",
      "4              7        499.0  \n"
     ]
    }
   ],
   "source": [
    "print(data_1.head())\n",
    "print(data_2.head())"
   ]
  },
  {
   "cell_type": "code",
   "execution_count": 4,
   "id": "72c43779",
   "metadata": {},
   "outputs": [],
   "source": [
    "#removing duplicates\n",
    "data_1 = data_1.drop_duplicates()\n",
    "data_2 = data_2.drop_duplicates()"
   ]
  },
  {
   "cell_type": "code",
   "execution_count": 5,
   "id": "eeb4b042",
   "metadata": {},
   "outputs": [],
   "source": [
    "#handling missing values\n",
    "med_1 =data_1['Price (INR)'].median()\n",
    "med_2 = data_2['Price (INR)'].median() \n",
    "data_1['Price (INR)'] = data_1['Price (INR)'].fillna(med_1)\n",
    "data_2['Price (INR)'] = data_2['Price (INR)'].fillna(med_2)"
   ]
  },
  {
   "cell_type": "code",
   "execution_count": 6,
   "id": "db8c1d6b",
   "metadata": {},
   "outputs": [],
   "source": [
    "#Correcting datatype\n",
    "data_1['BookingEndDateTime (Month / Day / Year)'] = pd.to_datetime(data_1['BookingEndDateTime (Month / Day / Year)'], format='%d-%b-%y')\n",
    "data_1['BookingEndDateTime (Month / Day / Year)'] = data_1['BookingEndDateTime (Month / Day / Year)'].dt.strftime('%d-%m-%Y')\n",
    "\n",
    "#changed column name\n",
    "data_1 = data_1.rename(columns={'BookingEndDateTime (Month / Day / Year)': 'BookingEndDateTime (Day/Month/Year)'})\n",
    "data_1['BookingStartTime'] = pd.to_datetime(data_1['BookingStartTime'], format='%H:%M:%S').dt.strftime('%I:%M %p')\n",
    "\n",
    "#changing date format for data2\n",
    "data_2['BookingEndDateTime (Month / Day / Year)'] = pd.to_datetime(data_2['BookingEndDateTime (Month / Day / Year)'], format='%d-%b-%y')\n",
    "data_2['BookingEndDateTime (Month / Day / Year)'] = data_2['BookingEndDateTime (Month / Day / Year)'].dt.strftime('%d-%m-%Y')\n",
    "data_2 = data_2.rename(columns={'BookingEndDateTime (Month / Day / Year)': 'BookingEndDateTime (Day/Month/Year)'})\n",
    "data_2['BookingStartTime'] = pd.to_datetime(data_2['BookingStartTime'], format='%H:%M:%S').dt.strftime('%I:%M %p')"
   ]
  },
  {
   "cell_type": "code",
   "execution_count": 7,
   "id": "621a1dc9",
   "metadata": {},
   "outputs": [],
   "source": [
    "data_1 =data_1.astype({'Price (INR)' : 'int64'})\n",
    "data_2 =data_2.astype({'Price (INR)' : 'int64'})"
   ]
  },
  {
   "cell_type": "code",
   "execution_count": 8,
   "id": "8326aa53",
   "metadata": {},
   "outputs": [
    {
     "name": "stdout",
     "output_type": "stream",
     "text": [
      "  ActivitySiteID     ActivityDescription BookingEndDateTime (Day/Month/Year)  \\\n",
      "0            BRP  20:20:20  9.30-10.30am                          01-06-2018   \n",
      "1            BRP  20:20:20  9.30-10.30am                          08-06-2018   \n",
      "2            BRP  20:20:20  9.30-10.30am                          15-06-2018   \n",
      "3            BRP  20:20:20  9.30-10.30am                          22-06-2018   \n",
      "4            BRP  20:20:20  9.30-10.30am                          29-06-2018   \n",
      "\n",
      "  BookingStartTime  MaxBookees  Number Booked  Price (INR)  \n",
      "0         09:30 AM          35             28          499  \n",
      "1         09:30 AM          35             35          499  \n",
      "2         09:30 AM          35             31          499  \n",
      "3         09:30 AM          35             32          499  \n",
      "4         09:30 AM          35             19          499  \n"
     ]
    }
   ],
   "source": [
    "print(data_1.head())"
   ]
  },
  {
   "cell_type": "code",
   "execution_count": 9,
   "id": "ca46d001",
   "metadata": {},
   "outputs": [
    {
     "name": "stdout",
     "output_type": "stream",
     "text": [
      "  ActivitySiteID      ActivityDescription BookingEndDateTime (Day/Month/Year)  \\\n",
      "0            HXP  20-20-20  2.45pm-3.45pm                          08-04-2018   \n",
      "1            HXP  20-20-20  2.45pm-3.45pm                          15-04-2018   \n",
      "2            HXP  20-20-20  2.45pm-3.45pm                          22-04-2018   \n",
      "3            HXP  20-20-20  2.45pm-3.45pm                          29-04-2018   \n",
      "4            HXP  20-20-20  2.45pm-3.45pm                          06-05-2018   \n",
      "\n",
      "  BookingStartTime  MaxBookees  Number Booked  Price (INR)  \n",
      "0         02:45 PM          25             12          499  \n",
      "1         02:45 PM          25             15          499  \n",
      "2         02:45 PM          25             14          499  \n",
      "3         02:45 PM          25              9          499  \n",
      "4         02:45 PM          25              7          499  \n"
     ]
    }
   ],
   "source": [
    "print(data_2.head())"
   ]
  },
  {
   "cell_type": "code",
   "execution_count": 10,
   "id": "ae7192fd",
   "metadata": {},
   "outputs": [],
   "source": [
    "#merge datasets\n",
    "merged_data = pd.concat([data_1,data_2], ignore_index=True)"
   ]
  },
  {
   "cell_type": "code",
   "execution_count": 11,
   "id": "289601c4",
   "metadata": {},
   "outputs": [],
   "source": [
    "#Ensuring data consistency\n",
    "merged_data['BookingEndDateTime (Day/Month/Year)'] = pd.to_datetime(merged_data['BookingEndDateTime (Day/Month/Year)'],format =\"%d-%m-%Y\").dt.strftime('%d-%m-%Y')\n",
    "merged_data['BookingStartTime'] = pd.to_datetime(merged_data['BookingStartTime'], format='%I:%M %p').dt.strftime('%I:%M %p')"
   ]
  },
  {
   "cell_type": "code",
   "execution_count": 12,
   "id": "a17529bc",
   "metadata": {},
   "outputs": [
    {
     "name": "stdout",
     "output_type": "stream",
     "text": [
      "  ActivitySiteID     ActivityDescription BookingEndDateTime (Day/Month/Year)  \\\n",
      "0            BRP  20:20:20  9.30-10.30am                          01-06-2018   \n",
      "1            BRP  20:20:20  9.30-10.30am                          08-06-2018   \n",
      "2            BRP  20:20:20  9.30-10.30am                          15-06-2018   \n",
      "3            BRP  20:20:20  9.30-10.30am                          22-06-2018   \n",
      "4            BRP  20:20:20  9.30-10.30am                          29-06-2018   \n",
      "\n",
      "  BookingStartTime  MaxBookees  Number Booked  Price (INR)  \n",
      "0         09:30 AM          35             28          499  \n",
      "1         09:30 AM          35             35          499  \n",
      "2         09:30 AM          35             31          499  \n",
      "3         09:30 AM          35             32          499  \n",
      "4         09:30 AM          35             19          499  \n"
     ]
    }
   ],
   "source": [
    "print(merged_data.head())"
   ]
  },
  {
   "cell_type": "code",
   "execution_count": 13,
   "id": "f9e67571",
   "metadata": {},
   "outputs": [],
   "source": [
    "#cross referencing"
   ]
  },
  {
   "cell_type": "code",
   "execution_count": 14,
   "id": "79c7b0c7",
   "metadata": {},
   "outputs": [],
   "source": [
    "#for checking no. of rows in merged_data = no. of rows in data_1 + data_2 \n",
    "def rows():\n",
    "    return len(data_1) +len(data_2) == len(merged_data)"
   ]
  },
  {
   "cell_type": "code",
   "execution_count": 15,
   "id": "038cf8e6",
   "metadata": {},
   "outputs": [],
   "source": [
    "quality_check = {\n",
    "    \"Equal no. of rows\" : rows(),\n",
    "    \"missing\": merged_data.isnull().sum(), \n",
    "    \"duplicate\": merged_data.duplicated().sum(), \n",
    "    \"datatypes\": merged_data.dtypes, \n",
    "    \"summary\": merged_data.describe(),\n",
    "    }"
   ]
  },
  {
   "cell_type": "code",
   "execution_count": 16,
   "id": "da158477",
   "metadata": {},
   "outputs": [
    {
     "name": "stdout",
     "output_type": "stream",
     "text": [
      "Equal no. of rows: \n",
      "True\n",
      "\n",
      "missing: \n",
      "ActivitySiteID                         0\n",
      "ActivityDescription                    0\n",
      "BookingEndDateTime (Day/Month/Year)    0\n",
      "BookingStartTime                       0\n",
      "MaxBookees                             0\n",
      "Number Booked                          0\n",
      "Price (INR)                            0\n",
      "dtype: int64\n",
      "\n",
      "duplicate: \n",
      "0\n",
      "\n",
      "datatypes: \n",
      "ActivitySiteID                         object\n",
      "ActivityDescription                    object\n",
      "BookingEndDateTime (Day/Month/Year)    object\n",
      "BookingStartTime                       object\n",
      "MaxBookees                              int64\n",
      "Number Booked                           int64\n",
      "Price (INR)                             int64\n",
      "dtype: object\n",
      "\n",
      "summary: \n",
      "        MaxBookees  Number Booked  Price (INR)\n",
      "count  3289.000000    3289.000000  3289.000000\n",
      "mean     32.179386      17.088781  1850.778656\n",
      "std      15.092156       9.504098   790.894827\n",
      "min       2.000000       1.000000   499.000000\n",
      "25%      24.000000      10.000000  1299.000000\n",
      "50%      30.000000      16.000000  1499.000000\n",
      "75%      35.000000      24.000000  2499.000000\n",
      "max      70.000000      64.000000  3999.000000\n",
      "\n"
     ]
    }
   ],
   "source": [
    "#quality report\n",
    "for key, value in quality_check.items():\n",
    "    print(f\"{key}: \\n{value}\\n\")"
   ]
  },
  {
   "cell_type": "code",
   "execution_count": 17,
   "id": "bb82d694",
   "metadata": {},
   "outputs": [],
   "source": [
    " #remove leading and trailing whitespace\n",
    "def SplitDescription(description):\n",
    "    description = description.strip() \n",
    "    #time ranges\n",
    "    match = re.search(r'\\b\\d{1,2}[:.]\\d{2}\\s*-\\s*\\d{1,2}[:.]\\d{2}(?:am|pm)?\\b', description, re.IGNORECASE)\n",
    "    if match:\n",
    "        time = match.group(0)\n",
    "        class_name = description.replace(time, '').strip()\n",
    "        return pd.Series([class_name, time])\n",
    "    else:\n",
    "        return pd.Series([description, None])"
   ]
  },
  {
   "cell_type": "code",
   "execution_count": 18,
   "id": "7a164691",
   "metadata": {},
   "outputs": [],
   "source": [
    "#index of 'ActivityDescription'\n",
    "col_index = merged_data.columns.get_loc('ActivityDescription')"
   ]
  },
  {
   "cell_type": "code",
   "execution_count": 19,
   "id": "e7ab71d6",
   "metadata": {},
   "outputs": [],
   "source": [
    "#get 2 new columns\n",
    "new_columns = merged_data['ActivityDescription'].apply(SplitDescription)\n",
    "new_columns.columns = ['Class Name', 'Class Timings']"
   ]
  },
  {
   "cell_type": "code",
   "execution_count": 20,
   "id": "d1994ff0",
   "metadata": {},
   "outputs": [],
   "source": [
    "#inserting new columns at original positions\n",
    "merged_data.insert(col_index, 'Class Name', new_columns['Class Name'])\n",
    "merged_data.insert(col_index + 1, 'Class Timings', new_columns['Class Timings'])"
   ]
  },
  {
   "cell_type": "code",
   "execution_count": 21,
   "id": "7ed0a44e",
   "metadata": {
    "scrolled": true
   },
   "outputs": [],
   "source": [
    "#drop'ActivityDescription' \n",
    "merged_data.drop(columns=['ActivityDescription'], inplace=True)"
   ]
  },
  {
   "cell_type": "code",
   "execution_count": 23,
   "id": "bcd97492",
   "metadata": {},
   "outputs": [],
   "source": [
    "data_1.to_csv('C:/Users/anujb/Downloads/Fitness_Classes_Data/Fitness Classes Data/cleaned/Data_1.csv',index=False)\n",
    "data_2.to_csv('C:/Users/anujb/Downloads/Fitness_Classes_Data/Fitness Classes Data/cleaned/Data_2.csv',index=False)\n",
    "merged_data.to_csv('C:/Users/anujb/Downloads/Fitness_Classes_Data/Fitness Classes Data/cleaned/Cleaned_Data.csv',index=False)"
   ]
  },
  {
   "cell_type": "code",
   "execution_count": 24,
   "id": "9f08240a",
   "metadata": {},
   "outputs": [
    {
     "name": "stdout",
     "output_type": "stream",
     "text": [
      "  ActivitySiteID Class Name Class Timings BookingEndDateTime (Day/Month/Year)  \\\n",
      "0            BRP   20:20:20  9.30-10.30am                          01-06-2018   \n",
      "1            BRP   20:20:20  9.30-10.30am                          08-06-2018   \n",
      "2            BRP   20:20:20  9.30-10.30am                          15-06-2018   \n",
      "3            BRP   20:20:20  9.30-10.30am                          22-06-2018   \n",
      "4            BRP   20:20:20  9.30-10.30am                          29-06-2018   \n",
      "\n",
      "  BookingStartTime  MaxBookees  Number Booked  Price (INR)  \n",
      "0         09:30 AM          35             28          499  \n",
      "1         09:30 AM          35             35          499  \n",
      "2         09:30 AM          35             31          499  \n",
      "3         09:30 AM          35             32          499  \n",
      "4         09:30 AM          35             19          499  \n"
     ]
    }
   ],
   "source": [
    "print(merged_data.head())"
   ]
  },
  {
   "cell_type": "code",
   "execution_count": null,
   "id": "246a0dde",
   "metadata": {},
   "outputs": [],
   "source": []
  }
 ],
 "metadata": {
  "kernelspec": {
   "display_name": "Python 3 (ipykernel)",
   "language": "python",
   "name": "python3"
  },
  "language_info": {
   "codemirror_mode": {
    "name": "ipython",
    "version": 3
   },
   "file_extension": ".py",
   "mimetype": "text/x-python",
   "name": "python",
   "nbconvert_exporter": "python",
   "pygments_lexer": "ipython3",
   "version": "3.9.12"
  }
 },
 "nbformat": 4,
 "nbformat_minor": 5
}
